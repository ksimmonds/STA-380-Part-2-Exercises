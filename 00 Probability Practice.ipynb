{
 "cells": [
  {
   "cell_type": "markdown",
   "id": "1f1ac418-69e1-4ca5-903b-9499ff194d43",
   "metadata": {},
   "source": [
    "## Probability practice "
   ]
  },
  {
   "cell_type": "markdown",
   "id": "aa28278e-d550-40bf-8c9b-6d74ad27e028",
   "metadata": {},
   "source": [
    "Part A. Visitors to your website are asked to answer a single survey question before they get access to the content on the page. Among all of the users, there are two categories: \n",
    "Random Clicker (RC), and Truthful Clicker (TC). \n",
    "There are two possible answers to the survey: yes and no. Random clickers would click either one with equal probability. \n",
    "You are also giving the information that the expected fraction of random clickers is 0.3. \n",
    "After a trial period, you get the following survey results: 65% said Yes and 35% said No. \n",
    "What fraction of people who are truthful clickers answered yes? Hint: use the rule of total probability."
   ]
  },
  {
   "cell_type": "code",
   "execution_count": 1,
   "id": "0f6e278a-7ee6-4c78-9edc-a71c06835696",
   "metadata": {},
   "outputs": [
    {
     "name": "stdout",
     "output_type": "stream",
     "text": [
      "\n",
      "P(RC) = 0.3\n",
      "P(Y) = 0.65\n",
      "P(N) = 0.35\n",
      "Probability of being a TC = P(TC) = 1-0.3 = 0.7\n",
      "Probability of Yes, given the clicker is a RC= P(Y|RC) = 0.5\n",
      "\n",
      "P(Y) = P(Y, RC) + P(Y, TC) = P(RC)⋅ P(Y∣RC) + P(TC)⋅ P(Y∣TC)\n",
      "0.65 = 0.3 * 0.5 + 0.7 * P(Y∣TC)\n",
      "\n",
      "P(Y∣TC) = (0.65 - 0.15)/0.7 = 0.71\n",
      "\n"
     ]
    }
   ],
   "source": [
    "print(\n",
    "'''\n",
    "P(RC) = 0.3\n",
    "P(Y) = 0.65\n",
    "P(N) = 0.35\n",
    "Probability of being a TC = P(TC) = 1-0.3 = 0.7\n",
    "Probability of Yes, given the clicker is a RC= P(Y|RC) = 0.5\n",
    "\n",
    "P(Y) = P(Y, RC) + P(Y, TC) = P(RC)⋅ P(Y∣RC) + P(TC)⋅ P(Y∣TC)\n",
    "0.65 = 0.3 * 0.5 + 0.7 * P(Y∣TC)\n",
    "\n",
    "P(Y∣TC) = (0.65 - 0.15)/0.7 = 0.71\n",
    "'''\n",
    ")"
   ]
  },
  {
   "cell_type": "code",
   "execution_count": 2,
   "id": "859ce674-f756-4af1-a21c-9cebcf9bde12",
   "metadata": {},
   "outputs": [
    {
     "name": "stdout",
     "output_type": "stream",
     "text": [
      "The fraction of people who are truthful clickers and answered yes is:  0.71\n"
     ]
    }
   ],
   "source": [
    "print(f'The fraction of people who are truthful clickers and answered yes is: ',0.71)"
   ]
  },
  {
   "cell_type": "code",
   "execution_count": null,
   "id": "78a62471-8eb7-468b-a047-036d3e540492",
   "metadata": {},
   "outputs": [],
   "source": []
  },
  {
   "cell_type": "markdown",
   "id": "bf8dc510-3028-4297-9e78-2a2eda43b0e0",
   "metadata": {},
   "source": [
    "Part B. Imagine a medical test for a disease with the following two attributes:\n",
    "\n",
    "- The sensitivity is about 0.993. That is, if someone has the disease, there is a probability of 0.993 that they will test positive.\n",
    "- The specificity is about 0.9999. This means that if someone doesn’t have the disease, there is probability of 0.9999 that they will test negative.\n",
    "- In the general population, incidence of the disease is reasonably rare: about 0.0025% of all people have it (or 0.000025 as a decimal probability).\n",
    "\n",
    "Suppose someone tests positive. What is the probability that they have the disease?"
   ]
  },
  {
   "cell_type": "code",
   "execution_count": 3,
   "id": "6cf352c3-35d8-4d5a-a3b9-e63325bf6a10",
   "metadata": {},
   "outputs": [
    {
     "name": "stdout",
     "output_type": "stream",
     "text": [
      "\n",
      "P(TestPositive|HasDisease) = 0.993\n",
      "P(TestNegative|NoDisease) = 0.9999\n",
      "P(HasDisease) = 0.0025\n",
      "P(NoDisease) = 1-0.0025 = 0.9975\n",
      "P(TestPositive|NoDisease) = 1-specificity = 0.0001\n",
      "P(HasDisease|TestPositive) = find\n",
      "\n",
      "P(TestPositive) = Accoding to total probability rule :\n",
      "P(TestPositive) =  P(HasDisease) * P(TestPositive|HasDisease) + P(NoDisease)*P(TestPositive|NoDisease)\n",
      "P(TestPositive) = 0.0025*0.993 + 0.9975*0.0001 = 0.00258225\n",
      "\n",
      "P(HasDisease|TestPositive) = (P(HasDisease) * P(TestPositive|HasDisease)) / P(TestPositive)\n",
      "P(HasDisease|TestPositive) = (0.0025*0.993)/0.00258225 = 0.9613709\n",
      "\n"
     ]
    }
   ],
   "source": [
    "print(\n",
    "'''\n",
    "P(TestPositive|HasDisease) = 0.993\n",
    "P(TestNegative|NoDisease) = 0.9999\n",
    "P(HasDisease) = 0.0025\n",
    "P(NoDisease) = 1-0.0025 = 0.9975\n",
    "P(TestPositive|NoDisease) = 1-specificity = 0.0001\n",
    "P(HasDisease|TestPositive) = find\n",
    "\n",
    "P(TestPositive) = Accoding to total probability rule :\n",
    "P(TestPositive) =  P(HasDisease) * P(TestPositive|HasDisease) + P(NoDisease)*P(TestPositive|NoDisease)\n",
    "P(TestPositive) = 0.0025*0.993 + 0.9975*0.0001 = 0.00258225\n",
    "\n",
    "P(HasDisease|TestPositive) = (P(HasDisease) * P(TestPositive|HasDisease)) / P(TestPositive)\n",
    "P(HasDisease|TestPositive) = (0.0025*0.993)/0.00258225 = 0.9613709\n",
    "'''\n",
    ")"
   ]
  },
  {
   "cell_type": "code",
   "execution_count": 4,
   "id": "ad794077-51f4-4b72-bddb-8060ffb50975",
   "metadata": {},
   "outputs": [
    {
     "name": "stdout",
     "output_type": "stream",
     "text": [
      "The probability that someone has the disease given they have a positive test is:  0.9613709\n"
     ]
    }
   ],
   "source": [
    "print(f'The probability that someone has the disease given they have a positive test is: ', 0.9613709)"
   ]
  }
 ],
 "metadata": {
  "kernelspec": {
   "display_name": "Python 3 (ipykernel)",
   "language": "python",
   "name": "python3"
  },
  "language_info": {
   "codemirror_mode": {
    "name": "ipython",
    "version": 3
   },
   "file_extension": ".py",
   "mimetype": "text/x-python",
   "name": "python",
   "nbconvert_exporter": "python",
   "pygments_lexer": "ipython3",
   "version": "3.12.4"
  }
 },
 "nbformat": 4,
 "nbformat_minor": 5
}
