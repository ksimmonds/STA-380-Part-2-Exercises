{
 "cells": [
  {
   "cell_type": "markdown",
   "id": "d98df52c-d4c4-4936-b778-7aa32a4c5799",
   "metadata": {},
   "source": [
    "### The Reuters corpus\n",
    "\n",
    "Revisit the Reuters C50 text corpus that we briefly explored in class. Your task is simple: tell an interesting story, anchored in some analytical tools we have learned in this class, using this data. For example:\n",
    "- you could cluster authors or documents and tell a story about what you find.\n",
    "- you could look for common factors using PCA.\n",
    "- you could train a predictive model and assess its accuracy, constructing features for each document that maximize performance.\n",
    "- you could do anything else that strikes you as interesting with this data.\n",
    "\n",
    "Describe clearly what question you are trying to answer, what models you are using, how you pre-processed the data, and so forth. Make sure you include at least one really interesting plot (although more than one might be necessary, depending on your question and approach.)\n",
    "\n",
    "Format your write-up in the following sections, some of which might be quite short:\n",
    "- Question: What question(s) are you trying to answer? - Approach: What approach/statistical tool did you use to answer the questions? - Results: What evidence/results did your approach provide to answer the questions? (E.g. any numbers, tables, figures as appropriate.) - Conclusion: What are your conclusions about your questions? Provide a written interpretation of your results, understandable to stakeholders who might plausibly take an interest in this data set.\n",
    "\n",
    "Regarding the data itself: In the C50train directory, you have 50 articles from each of 50 different authors (one author per directory). Then in the C50test directory, you have another 50 articles from each of those same 50 authors (again, one author per directory). This train/test split is obviously intended for building predictive models, but to repeat, you need not do that on this problem. You can tell any story you want using any methods you want. Just make it compelling!\n",
    "\n",
    "Note: if you try to build a predictive model, you will need to figure out a way to deal with words in the test set that you never saw in the training set. This is a nontrivial aspect of the modeling exercise. (E.g. you might simply ignore those new words.)\n",
    "\n",
    "This question will be graded according to three criteria:\n",
    "1. the overall “interesting-ness” of your question and analysis.\n",
    "2. the clarity of your description. We will be asking ourselves: could your analysis be reproduced by a competent data scientist based on what you’ve said? (That’s good.) Or would that person have to wade into the code in order to understand what, precisely, you’ve done? (That’s bad.)\n",
    "3. technical correctness (i.e. did you make any mistakes in execution or interpretation?)"
   ]
  },
  {
   "cell_type": "code",
   "execution_count": 1,
   "id": "7905fbf8-9f76-4921-9f15-2122e9fa1fe6",
   "metadata": {},
   "outputs": [
    {
     "name": "stderr",
     "output_type": "stream",
     "text": [
      "[nltk_data] Downloading package punkt to\n",
      "[nltk_data]     /Users/twinklepanda/nltk_data...\n",
      "[nltk_data]   Package punkt is already up-to-date!\n",
      "[nltk_data] Downloading package stopwords to\n",
      "[nltk_data]     /Users/twinklepanda/nltk_data...\n",
      "[nltk_data]   Package stopwords is already up-to-date!\n",
      "[nltk_data] Downloading package wordnet to\n",
      "[nltk_data]     /Users/twinklepanda/nltk_data...\n",
      "[nltk_data]   Package wordnet is already up-to-date!\n"
     ]
    },
    {
     "data": {
      "text/plain": [
       "True"
      ]
     },
     "execution_count": 1,
     "metadata": {},
     "output_type": "execute_result"
    }
   ],
   "source": [
    "# Import packages\n",
    "import os\n",
    "import sys\n",
    "import numpy as np\n",
    "import pandas as pd\n",
    "\n",
    "import seaborn as sns\n",
    "import matplotlib.pyplot as plt\n",
    "\n",
    "from sklearn.cluster import KMeans\n",
    "from sklearn.manifold import TSNE\n",
    "\n",
    "from sklearn.feature_extraction.text import CountVectorizer\n",
    "from sklearn.decomposition import LatentDirichletAllocation\n",
    "\n",
    "import nltk\n",
    "from nltk.corpus import stopwords\n",
    "from nltk.tokenize import word_tokenize\n",
    "from nltk.stem import WordNetLemmatizer\n",
    "\n",
    "nltk.download('punkt')\n",
    "nltk.download('stopwords')\n",
    "nltk.download('wordnet')"
   ]
  },
  {
   "cell_type": "code",
   "execution_count": 2,
   "id": "94af07ca-920e-4f19-9dd5-8393fc533b89",
   "metadata": {},
   "outputs": [
    {
     "data": {
      "text/plain": [
       "\"Used 'git clone https://github.com/jgscott/STA380.git' on terminal to fetch the files and stored inside P2CourseGitRepo\""
      ]
     },
     "execution_count": 2,
     "metadata": {},
     "output_type": "execute_result"
    }
   ],
   "source": [
    "# Data fetch from GIT Repo\n",
    "'''Used 'git clone https://github.com/jgscott/STA380.git' on terminal to fetch the files and stored inside P2CourseGitRepo'''"
   ]
  },
  {
   "cell_type": "code",
   "execution_count": 3,
   "id": "61c0abf7-f3a1-4662-8a49-4d0cd4161899",
   "metadata": {},
   "outputs": [
    {
     "data": {
      "text/html": [
       "<div>\n",
       "<style scoped>\n",
       "    .dataframe tbody tr th:only-of-type {\n",
       "        vertical-align: middle;\n",
       "    }\n",
       "\n",
       "    .dataframe tbody tr th {\n",
       "        vertical-align: top;\n",
       "    }\n",
       "\n",
       "    .dataframe thead th {\n",
       "        text-align: right;\n",
       "    }\n",
       "</style>\n",
       "<table border=\"1\" class=\"dataframe\">\n",
       "  <thead>\n",
       "    <tr style=\"text-align: right;\">\n",
       "      <th></th>\n",
       "      <th>Repository</th>\n",
       "      <th>Journalist</th>\n",
       "      <th>TextFile</th>\n",
       "      <th>Article</th>\n",
       "    </tr>\n",
       "  </thead>\n",
       "  <tbody>\n",
       "    <tr>\n",
       "      <th>0</th>\n",
       "      <td>C50test</td>\n",
       "      <td>RobinSidel</td>\n",
       "      <td>347781newsML.txt</td>\n",
       "      <td>ITT Corp. met with financial advisers on Thurs...</td>\n",
       "    </tr>\n",
       "    <tr>\n",
       "      <th>1</th>\n",
       "      <td>C50test</td>\n",
       "      <td>RobinSidel</td>\n",
       "      <td>306379newsML.txt</td>\n",
       "      <td>Norfolk Southern Corp. on Monday launched a ne...</td>\n",
       "    </tr>\n",
       "    <tr>\n",
       "      <th>2</th>\n",
       "      <td>C50test</td>\n",
       "      <td>RobinSidel</td>\n",
       "      <td>324849newsML.txt</td>\n",
       "      <td>Long-troubled solid waste firm Mid-American Wa...</td>\n",
       "    </tr>\n",
       "    <tr>\n",
       "      <th>3</th>\n",
       "      <td>C50test</td>\n",
       "      <td>RobinSidel</td>\n",
       "      <td>284041newsML.txt</td>\n",
       "      <td>Healthcare and oil companies are expected to b...</td>\n",
       "    </tr>\n",
       "    <tr>\n",
       "      <th>4</th>\n",
       "      <td>C50test</td>\n",
       "      <td>RobinSidel</td>\n",
       "      <td>363477newsML.txt</td>\n",
       "      <td>The union of CVS Corp and Revco D.S. Inc creat...</td>\n",
       "    </tr>\n",
       "  </tbody>\n",
       "</table>\n",
       "</div>"
      ],
      "text/plain": [
       "  Repository  Journalist          TextFile  \\\n",
       "0    C50test  RobinSidel  347781newsML.txt   \n",
       "1    C50test  RobinSidel  306379newsML.txt   \n",
       "2    C50test  RobinSidel  324849newsML.txt   \n",
       "3    C50test  RobinSidel  284041newsML.txt   \n",
       "4    C50test  RobinSidel  363477newsML.txt   \n",
       "\n",
       "                                             Article  \n",
       "0  ITT Corp. met with financial advisers on Thurs...  \n",
       "1  Norfolk Southern Corp. on Monday launched a ne...  \n",
       "2  Long-troubled solid waste firm Mid-American Wa...  \n",
       "3  Healthcare and oil companies are expected to b...  \n",
       "4  The union of CVS Corp and Revco D.S. Inc creat...  "
      ]
     },
     "execution_count": 3,
     "metadata": {},
     "output_type": "execute_result"
    }
   ],
   "source": [
    "# Change the directory address for your machine\n",
    "directory = \"/Users/twinklepanda//Desktop/Me/MSBA/Summer/IntroToML/P2CourseGitRepo/data/ReutersC50\"\n",
    "\n",
    "data = []\n",
    "# Iterate over directories > subdirectories > find the text files > append to form master dataframe\n",
    "for rep in os.listdir(directory):\n",
    "    for sub_rep in os.listdir(os.path.join(directory,rep)):\n",
    "        for txt_file in os.listdir(os.path.join(directory,rep,sub_rep)):\n",
    "            try:\n",
    "                with open(os.path.join(directory,rep,sub_rep,txt_file), 'r') as file:\n",
    "                    content = file.read()\n",
    "                    content = content.replace('\\n', ' ')\n",
    "                    content = ' '.join(content.split())\n",
    "                \n",
    "                data.append({\n",
    "                    'Repository': rep,\n",
    "                    'Journalist': sub_rep,\n",
    "                    'TextFile': txt_file,\n",
    "                    'Article': content})\n",
    "            except :\n",
    "                pass\n",
    "\n",
    "df = pd.DataFrame(data)\n",
    "\n",
    "df.head()"
   ]
  },
  {
   "cell_type": "markdown",
   "id": "3b856e91-719d-4b6a-bae1-6911d8be4408",
   "metadata": {},
   "source": [
    "## Question: How do journalists cluster based on their topic preferences?"
   ]
  },
  {
   "cell_type": "code",
   "execution_count": 15,
   "id": "8c72150d-0b47-4da9-a19d-3a943863a0fc",
   "metadata": {},
   "outputs": [
    {
     "data": {
      "text/html": [
       "<div>\n",
       "<style scoped>\n",
       "    .dataframe tbody tr th:only-of-type {\n",
       "        vertical-align: middle;\n",
       "    }\n",
       "\n",
       "    .dataframe tbody tr th {\n",
       "        vertical-align: top;\n",
       "    }\n",
       "\n",
       "    .dataframe thead th {\n",
       "        text-align: right;\n",
       "    }\n",
       "</style>\n",
       "<table border=\"1\" class=\"dataframe\">\n",
       "  <thead>\n",
       "    <tr style=\"text-align: right;\">\n",
       "      <th></th>\n",
       "      <th>Journalist</th>\n",
       "      <th>Document</th>\n",
       "    </tr>\n",
       "  </thead>\n",
       "  <tbody>\n",
       "    <tr>\n",
       "      <th>0</th>\n",
       "      <td>AaronPressman</td>\n",
       "      <td>The U.S. government is scrambling to update th...</td>\n",
       "    </tr>\n",
       "    <tr>\n",
       "      <th>1</th>\n",
       "      <td>AlanCrosby</td>\n",
       "      <td>East European markets moved higher across the ...</td>\n",
       "    </tr>\n",
       "    <tr>\n",
       "      <th>2</th>\n",
       "      <td>AlexanderSmith</td>\n",
       "      <td>British estate agency and financial products g...</td>\n",
       "    </tr>\n",
       "  </tbody>\n",
       "</table>\n",
       "</div>"
      ],
      "text/plain": [
       "       Journalist                                           Document\n",
       "0   AaronPressman  The U.S. government is scrambling to update th...\n",
       "1      AlanCrosby  East European markets moved higher across the ...\n",
       "2  AlexanderSmith  British estate agency and financial products g..."
      ]
     },
     "execution_count": 15,
     "metadata": {},
     "output_type": "execute_result"
    }
   ],
   "source": [
    "# Create 1 document per Journalist with all their articles concatenated\n",
    "journals = df[['Journalist', 'Article']].drop_duplicates()\\\n",
    "                                        .groupby('Journalist')\\\n",
    "                                        .agg(Document = ('Article', ' '.join))\\\n",
    "                                        .reset_index()\n",
    "journals.iloc[:3]"
   ]
  },
  {
   "cell_type": "markdown",
   "id": "0d8945e5-3ae8-478d-ac8d-3c80a5af1153",
   "metadata": {},
   "source": [
    "#### Difference between Stemming and Lemmatization\n",
    "- Stemming: Removes prefixes and suffixes to get the root form of a word\n",
    "     - \"Caring\" → \"Car\" (incorrect root) and \"Better\" → \"Better\" (or possibly \"Bet\")\n",
    "- Lemmatization: Uses linguistic rules and a dictionary to transform a word into its base form ensuring it remains a valid word\n",
    "     - \"Caring\" → \"Care\" (correct root) and \"Better\" → \"Good\" (correct base form)"
   ]
  },
  {
   "cell_type": "code",
   "execution_count": 5,
   "id": "c323b286-3e14-4251-886d-2f11ff3f9b12",
   "metadata": {},
   "outputs": [],
   "source": [
    "# Pre-processing: Tokenize, Stop word removal & Lemmatization\n",
    "stop_words = set(stopwords.words('english'))\n",
    "\n",
    "lemmatizer = WordNetLemmatizer()\n",
    "\n",
    "def preprocess_text(text):\n",
    "    tokens = word_tokenize(text.lower())\n",
    "    tokens = [lemmatizer.lemmatize(token) for token in tokens if token.isalnum()]\n",
    "    tokens = [token for token in tokens if token not in stop_words]\n",
    "    return ' '.join(tokens)\n",
    "\n",
    "journals['processed_doc'] = journals['Document'].apply(preprocess_text)"
   ]
  },
  {
   "cell_type": "markdown",
   "id": "73698761-eb6c-47ff-b323-15efdf0082cb",
   "metadata": {},
   "source": [
    "#### Topic Modelling using LDA"
   ]
  },
  {
   "cell_type": "code",
   "execution_count": 6,
   "id": "49ee55ed-5319-4077-818e-96ad12d1952b",
   "metadata": {},
   "outputs": [],
   "source": [
    "vectorizer = CountVectorizer(max_df=0.95, min_df=2, stop_words='english')\n",
    "doc_term_matrix = vectorizer.fit_transform(journals['processed_doc'])\n",
    "\n",
    "lda_model = LatentDirichletAllocation(n_components=10, random_state=42)\n",
    "lda_output = lda_model.fit_transform(doc_term_matrix)\n",
    "\n",
    "df_topic_distribution = pd.DataFrame(lda_output, columns=[f'Topic_{i+1}' for i in range(10)])\n",
    "journals = pd.concat([journals, df_topic_distribution], axis=1)"
   ]
  },
  {
   "cell_type": "code",
   "execution_count": 7,
   "id": "ca9c1ba6-3128-4c8a-ac3e-57c173bbc021",
   "metadata": {},
   "outputs": [
    {
     "name": "stdout",
     "output_type": "stream",
     "text": [
      " \n",
      "NOTE: \n",
      "Here, we see 10 topics because we chose n_components = 10. \n",
      "The values in these topic columns are the probabilities that a given document belongs to each topic. \n",
      "These probabilities sum to 1 for each document. \n",
      "\n",
      "The first document here we see by Aaron Pressman, most likely belongs to topic 1 since the topic distribution probability is 81%.\n",
      "He has predominantly focused on Topic 1 in his past work, which suggests a strong interest or expertise in that area. \n",
      "It doesn't account for any trends, changes in interests, or external factors that might influence his future work. \n",
      "Hence, we cannot conclude that there's a 81% chance of his next article to be about topic 1.\n",
      "\n",
      "\n"
     ]
    },
    {
     "data": {
      "text/html": [
       "<div>\n",
       "<style scoped>\n",
       "    .dataframe tbody tr th:only-of-type {\n",
       "        vertical-align: middle;\n",
       "    }\n",
       "\n",
       "    .dataframe tbody tr th {\n",
       "        vertical-align: top;\n",
       "    }\n",
       "\n",
       "    .dataframe thead th {\n",
       "        text-align: right;\n",
       "    }\n",
       "</style>\n",
       "<table border=\"1\" class=\"dataframe\">\n",
       "  <thead>\n",
       "    <tr style=\"text-align: right;\">\n",
       "      <th></th>\n",
       "      <th>Journalist</th>\n",
       "      <th>Document</th>\n",
       "      <th>processed_doc</th>\n",
       "      <th>Topic_1</th>\n",
       "      <th>Topic_2</th>\n",
       "      <th>Topic_3</th>\n",
       "      <th>Topic_4</th>\n",
       "      <th>Topic_5</th>\n",
       "      <th>Topic_6</th>\n",
       "      <th>Topic_7</th>\n",
       "      <th>Topic_8</th>\n",
       "      <th>Topic_9</th>\n",
       "      <th>Topic_10</th>\n",
       "    </tr>\n",
       "  </thead>\n",
       "  <tbody>\n",
       "    <tr>\n",
       "      <th>0</th>\n",
       "      <td>AaronPressman</td>\n",
       "      <td>The U.S. government is scrambling to update th...</td>\n",
       "      <td>government scrambling update thousand computer...</td>\n",
       "      <td>0.817386</td>\n",
       "      <td>0.000006</td>\n",
       "      <td>0.182563</td>\n",
       "      <td>0.000006</td>\n",
       "      <td>0.000006</td>\n",
       "      <td>0.000006</td>\n",
       "      <td>0.000006</td>\n",
       "      <td>0.000006</td>\n",
       "      <td>0.000006</td>\n",
       "      <td>0.000006</td>\n",
       "    </tr>\n",
       "    <tr>\n",
       "      <th>1</th>\n",
       "      <td>AlanCrosby</td>\n",
       "      <td>East European markets moved higher across the ...</td>\n",
       "      <td>east european market moved higher across board...</td>\n",
       "      <td>0.999930</td>\n",
       "      <td>0.000008</td>\n",
       "      <td>0.000008</td>\n",
       "      <td>0.000008</td>\n",
       "      <td>0.000008</td>\n",
       "      <td>0.000008</td>\n",
       "      <td>0.000008</td>\n",
       "      <td>0.000008</td>\n",
       "      <td>0.000008</td>\n",
       "      <td>0.000008</td>\n",
       "    </tr>\n",
       "  </tbody>\n",
       "</table>\n",
       "</div>"
      ],
      "text/plain": [
       "      Journalist                                           Document  \\\n",
       "0  AaronPressman  The U.S. government is scrambling to update th...   \n",
       "1     AlanCrosby  East European markets moved higher across the ...   \n",
       "\n",
       "                                       processed_doc   Topic_1   Topic_2  \\\n",
       "0  government scrambling update thousand computer...  0.817386  0.000006   \n",
       "1  east european market moved higher across board...  0.999930  0.000008   \n",
       "\n",
       "    Topic_3   Topic_4   Topic_5   Topic_6   Topic_7   Topic_8   Topic_9  \\\n",
       "0  0.182563  0.000006  0.000006  0.000006  0.000006  0.000006  0.000006   \n",
       "1  0.000008  0.000008  0.000008  0.000008  0.000008  0.000008  0.000008   \n",
       "\n",
       "   Topic_10  \n",
       "0  0.000006  \n",
       "1  0.000008  "
      ]
     },
     "execution_count": 7,
     "metadata": {},
     "output_type": "execute_result"
    }
   ],
   "source": [
    "print(''' \n",
    "NOTE: \n",
    "Here, we see 10 topics because we chose n_components = 10. \n",
    "The values in these topic columns are the probabilities that a given document belongs to each topic. \n",
    "These probabilities sum to 1 for each document. \n",
    "\n",
    "The first document here we see by Aaron Pressman, most likely belongs to topic 1 since the topic distribution probability is 81%.\n",
    "He has predominantly focused on Topic 1 in his past work, which suggests a strong interest or expertise in that area. \n",
    "It doesn't account for any trends, changes in interests, or external factors that might influence his future work. \n",
    "Hence, we cannot conclude that there's a 81% chance of his next article to be about topic 1.\n",
    "\n",
    "''')\n",
    "\n",
    "journals.head(2)"
   ]
  },
  {
   "cell_type": "code",
   "execution_count": 8,
   "id": "19550772-9cea-45b7-b7a2-6062e6752e48",
   "metadata": {},
   "outputs": [
    {
     "data": {
      "image/png": "[encoded data removed]",
      "text/plain": [
       "<Figure size 1200x800 with 1 Axes>"
      ]
     },
     "metadata": {},
     "output_type": "display_data"
    }
   ],
   "source": [
    "# Cluster the journals based on topic distribution\n",
    "kmeans = KMeans(n_clusters=5, random_state=42)\n",
    "journals['Cluster'] = kmeans.fit_predict(df_topic_distribution)\n",
    "\n",
    "# Perform t-SNE to reduce to 2 dimensions for plotting\n",
    "tsne = TSNE(n_components=2, random_state=42)\n",
    "tsne_results = tsne.fit_transform(df_topic_distribution)\n",
    "\n",
    "df_tsne = pd.DataFrame(data=tsne_results, columns=['tsne1', 'tsne2'])\n",
    "df_tsne['Cluster'] = journals['Cluster']\n",
    "df_tsne['Journalist'] = journals['Journalist']\n",
    "\n",
    "plt.figure(figsize=(12, 8))\n",
    "sns.scatterplot(data=df_tsne, x='tsne1', y='tsne2', hue='Cluster', style='Cluster', s=100, palette='deep')\n",
    "\n",
    "for i, txt in enumerate(df_tsne['Journalist']):\n",
    "    plt.annotate(txt, (df_tsne['tsne1'].iloc[i], df_tsne['tsne2'].iloc[i]), fontsize=8, alpha=0.7)\n",
    "\n",
    "plt.title('Journalist Clusters based on Topic Preferences')\n",
    "plt.xlabel('t-SNE dimension 1')\n",
    "plt.ylabel('t-SNE dimension 2')\n",
    "plt.legend(title='Cluster', bbox_to_anchor=(1.05, 1), loc='upper left')\n",
    "plt.tight_layout()\n",
    "plt.show()"
   ]
  },
  {
   "cell_type": "code",
   "execution_count": 17,
   "id": "b20e62b0-5c42-4bb5-b9c7-c5e4f1f6c8c6",
   "metadata": {},
   "outputs": [
    {
     "name": "stdout",
     "output_type": "stream",
     "text": [
      "\n",
      "NOTE: \n",
      "We are able to successfully cluster the journalists together except for some variability in cluster 1.\n",
      "Journalists like KirstinRidley, LynneO'Donnell & HeatherScoffield seem to be farther away from the cluster. \n",
      "This could be because they focus majorly on one topic among the 10, when most other journalists tend to pick more topics for their articles. \n",
      "\n"
     ]
    }
   ],
   "source": [
    "# journals[journals['Cluster']==1]\n",
    "print(\n",
    "'''\n",
    "NOTE: \n",
    "We are able to successfully cluster the journalists together except for some variability in cluster 1.\n",
    "Journalists like KirstinRidley, LynneO'Donnell & HeatherScoffield seem to be farther away from the cluster. \n",
    "This could be because they focus majorly on one topic among the 10, when most other journalists tend to pick more topics for their articles. \n",
    "'''\n",
    ")"
   ]
  },
  {
   "cell_type": "code",
   "execution_count": 9,
   "id": "0698df00-a4ad-406a-a803-ba0488f866d5",
   "metadata": {},
   "outputs": [
    {
     "name": "stdout",
     "output_type": "stream",
     "text": [
      "Topic #1:\n",
      "czech, crown, russia, prague, oil, foreign, export, fcc, russian, klaus\n",
      "\n",
      "\n",
      "Topic #2:\n",
      "gm, ford, plant, worker, apple, car, strike, vehicle, chrysler, automaker\n",
      "\n",
      "\n",
      "Topic #3:\n",
      "computer, internet, software, network, revenue, earnings, microsoft, amp, ibm, online\n",
      "\n",
      "\n",
      "Topic #4:\n",
      "franc, french, boeing, france, airbus, air, thomson, defence, lagardere, electronics\n",
      "\n",
      "\n",
      "Topic #5:\n",
      "pound, british, amp, telecom, bt, penny, mci, cable, television, communication\n",
      "\n",
      "\n",
      "Topic #6:\n",
      "gold, canada, toronto, canadian, busang, shareholder, barrick, csx, indonesian, southern\n",
      "\n",
      "\n",
      "Topic #7:\n",
      "tonne, trader, export, china, cargo, cocoa, kong, hong, chinese, crop\n",
      "\n",
      "\n",
      "Topic #8:\n",
      "pound, british, britain, penny, london, insurance, japan, plc, amp, nomura\n",
      "\n",
      "\n",
      "Topic #9:\n",
      "australia, australian, net, cent, sydney, earnings, asia, mutual, banking, casino\n",
      "\n",
      "\n",
      "Topic #10:\n",
      "china, hong, kong, beijing, chinese, foreign, party, deng, political, taiwan\n",
      "\n",
      "\n"
     ]
    }
   ],
   "source": [
    "# Get features corresponding to each topic:\n",
    "feature_names = vectorizer.get_feature_names_out()\n",
    "\n",
    "def display_topics(model, feature_names, n_top_words):\n",
    "    for topic_idx, topic in enumerate(model.components_):\n",
    "        print(f\"Topic #{topic_idx + 1}:\")\n",
    "        print(\", \".join([feature_names[i] for i in topic.argsort()[:-n_top_words - 1:-1]]))\n",
    "        print(\"\\n\")\n",
    "\n",
    "n_top_words = 10  # Number of top words you want to see per topic\n",
    "display_topics(lda_model, feature_names, n_top_words)"
   ]
  },
  {
   "cell_type": "markdown",
   "id": "3f70bee2-6a11-45ac-947a-067c46f2e07d",
   "metadata": {},
   "source": [
    "### Topic Knowledge: \n",
    "\n",
    "- Topic 1 : Czech economic and foreign relations, particularly with Russia.\n",
    "- Topic 2 : Automotive industry news, focusing on major American manufacturers.\n",
    "- Topic 3 : Technology and software industry developments, including major tech companies.\n",
    "- Topic 4 : French aerospace and defense industry, with emphasis on Airbus.\n",
    "- Topic 5 : British telecommunications sector, including BT and cable TV.\n",
    "- Topic 6 : Canadian mining and resource industry, with focus on gold.\n",
    "- Topic 7 : International trade and commodities, particularly involving China.\n",
    "- Topic 8 : British financial sector and international business relations.\n",
    "- Topic 9 : Australian business and finance, including banking and gambling industries.\n",
    "- Topic 10 : Chinese politics and international relations, including Hong Kong and Taiwan."
   ]
  },
  {
   "cell_type": "markdown",
   "id": "cfe70942-9579-4d19-bea3-b400395d4d08",
   "metadata": {},
   "source": [
    "### Significance of this project:\n",
    "\n",
    "This analysis can help in the following ways:\n",
    "\n",
    "- Tailored content delivery: Clustering helps news platforms match articles to reader interests, creating a more personalized news experience.\n",
    "- Expert source identification: This approach highlights journalists with expertise in specific topics, making it easier for readers to find authoritative coverage.\n",
    "- Strategic content planning: News organizations can use clustering insights to assign stories based on journalists' strengths, aligning content with audience demand.\n",
    "\n",
    "These applications show how data analysis can enhance both the reader experience and newsroom efficiency."
   ]
  },
  {
   "cell_type": "code",
   "execution_count": null,
   "id": "6909472a-f469-4537-9a87-273e97483809",
   "metadata": {},
   "outputs": [],
   "source": []
  },
  {
   "cell_type": "code",
   "execution_count": null,
   "id": "e91557c4-9226-4820-8665-1df560272d84",
   "metadata": {},
   "outputs": [],
   "source": []
  },
  {
   "cell_type": "code",
   "execution_count": null,
   "id": "1db59856-e420-470e-89a0-3130d4e05aa4",
   "metadata": {},
   "outputs": [],
   "source": []
  }
 ],
 "metadata": {
  "kernelspec": {
   "display_name": "Python 3 (ipykernel)",
   "language": "python",
   "name": "python3"
  },
  "language_info": {
   "codemirror_mode": {
    "name": "ipython",
    "version": 3
   },
   "file_extension": ".py",
   "mimetype": "text/x-python",
   "name": "python",
   "nbconvert_exporter": "python",
   "pygments_lexer": "ipython3",
   "version": "3.12.4"
  }
 },
 "nbformat": 4,
 "nbformat_minor": 5
}
